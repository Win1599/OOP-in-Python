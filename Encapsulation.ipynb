{
 "cells": [
  {
   "cell_type": "code",
   "execution_count": 3,
   "metadata": {},
   "outputs": [
    {
     "name": "stdout",
     "output_type": "stream",
     "text": [
      "10\n",
      "2\n"
     ]
    }
   ],
   "source": [
    "#-----Inheritance----------\n",
    "\n",
    "class A:\n",
    "    x=10\n",
    "    \n",
    "class B(A):  #B is child class of a can access members of A\n",
    "    y=2\n",
    "    \n",
    "b=B()\n",
    "print(b.x)\n",
    "print(b.y)"
   ]
  },
  {
   "cell_type": "code",
   "execution_count": 4,
   "metadata": {},
   "outputs": [
    {
     "name": "stdout",
     "output_type": "stream",
     "text": [
      "10\n",
      "5\n",
      "8\n"
     ]
    }
   ],
   "source": [
    "#---------Multiple---------\n",
    "class A:\n",
    "    x=10\n",
    "    \n",
    "class B(A):\n",
    "    y=5\n",
    "    \n",
    "class C(B,A):\n",
    "    z=8\n",
    "    \n",
    "c=C()\n",
    "print(c.x)\n",
    "print(c.y)\n",
    "print(c.z)"
   ]
  },
  {
   "cell_type": "code",
   "execution_count": 5,
   "metadata": {},
   "outputs": [
    {
     "name": "stdout",
     "output_type": "stream",
     "text": [
      "10\n",
      "5\n",
      "8\n"
     ]
    }
   ],
   "source": [
    "#-------------------Multilevel Inheritance------------\n",
    "\n",
    "class A:\n",
    "    x=10\n",
    "    \n",
    "class B(A):\n",
    "    y=5\n",
    "    \n",
    "class C(B):\n",
    "    z=8\n",
    "    \n",
    "c=C()\n",
    "print(c.x)\n",
    "print(c.y)\n",
    "print(c.z)"
   ]
  },
  {
   "cell_type": "code",
   "execution_count": 6,
   "metadata": {},
   "outputs": [
    {
     "name": "stdout",
     "output_type": "stream",
     "text": [
      "10\n",
      "8\n"
     ]
    }
   ],
   "source": [
    "#---------hierarvhical inheritance------------\n",
    "\n",
    "\n",
    "class A:\n",
    "    x=10\n",
    "    \n",
    "class B(A):\n",
    "    y=5\n",
    "    \n",
    "class C(A):\n",
    "    z=8\n",
    "    \n",
    "c=C()\n",
    "print(c.x)\n",
    "# print(c.y)      C cant access members of B\n",
    "print(c.z)"
   ]
  },
  {
   "cell_type": "code",
   "execution_count": 7,
   "metadata": {},
   "outputs": [
    {
     "name": "stdout",
     "output_type": "stream",
     "text": [
      "9\n",
      "7\n",
      "0\n",
      "5\n"
     ]
    }
   ],
   "source": [
    "#-------------Hybrid Inheritance---------------\n",
    "\n",
    "class A:\n",
    "    x=9\n",
    "    \n",
    "class B(A):\n",
    "    y=7\n",
    "    \n",
    "class C(A):\n",
    "    z=0\n",
    "    \n",
    "class D(B,C):\n",
    "    p=5\n",
    "    \n",
    "d=D()\n",
    "print(d.x)\n",
    "print(d.y)\n",
    "print(d.z)\n",
    "print(d.p)\n"
   ]
  },
  {
   "cell_type": "code",
   "execution_count": 14,
   "metadata": {
    "scrolled": true
   },
   "outputs": [
    {
     "ename": "NameError",
     "evalue": "name 'self' is not defined",
     "output_type": "error",
     "traceback": [
      "\u001b[1;31m---------------------------------------------------------------------------\u001b[0m",
      "\u001b[1;31mNameError\u001b[0m                                 Traceback (most recent call last)",
      "\u001b[1;32m<ipython-input-14-01ab162bbcf7>\u001b[0m in \u001b[0;36m<module>\u001b[1;34m\u001b[0m\n\u001b[0;32m     20\u001b[0m \u001b[1;33m\u001b[0m\u001b[0m\n\u001b[0;32m     21\u001b[0m \u001b[1;33m\u001b[0m\u001b[0m\n\u001b[1;32m---> 22\u001b[1;33m \u001b[1;32mclass\u001b[0m \u001b[0mLibrarian\u001b[0m\u001b[1;33m(\u001b[0m\u001b[0mPerson\u001b[0m\u001b[1;33m,\u001b[0m\u001b[0mStudent\u001b[0m\u001b[1;33m)\u001b[0m\u001b[1;33m:\u001b[0m\u001b[1;33m\u001b[0m\u001b[1;33m\u001b[0m\u001b[0m\n\u001b[0m\u001b[0;32m     23\u001b[0m     \u001b[1;32mdef\u001b[0m \u001b[0mcheck\u001b[0m\u001b[1;33m(\u001b[0m\u001b[0mself\u001b[0m\u001b[1;33m)\u001b[0m\u001b[1;33m:\u001b[0m\u001b[1;33m\u001b[0m\u001b[1;33m\u001b[0m\u001b[0m\n\u001b[0;32m     24\u001b[0m         \u001b[0mself\u001b[0m\u001b[1;33m.\u001b[0m\u001b[0mBookname\u001b[0m\u001b[1;33m=\u001b[0m\u001b[0minput\u001b[0m\u001b[1;33m(\u001b[0m\u001b[1;34m\"Enter Bookname:\"\u001b[0m\u001b[1;33m)\u001b[0m\u001b[1;33m\u001b[0m\u001b[1;33m\u001b[0m\u001b[0m\n",
      "\u001b[1;32m<ipython-input-14-01ab162bbcf7>\u001b[0m in \u001b[0;36mLibrarian\u001b[1;34m()\u001b[0m\n\u001b[0;32m     24\u001b[0m         \u001b[0mself\u001b[0m\u001b[1;33m.\u001b[0m\u001b[0mBookname\u001b[0m\u001b[1;33m=\u001b[0m\u001b[0minput\u001b[0m\u001b[1;33m(\u001b[0m\u001b[1;34m\"Enter Bookname:\"\u001b[0m\u001b[1;33m)\u001b[0m\u001b[1;33m\u001b[0m\u001b[1;33m\u001b[0m\u001b[0m\n\u001b[0;32m     25\u001b[0m         \u001b[0mself\u001b[0m\u001b[1;33m.\u001b[0m\u001b[0mLastdate\u001b[0m\u001b[1;33m=\u001b[0m\u001b[0minput\u001b[0m\u001b[1;33m(\u001b[0m\u001b[1;34m\"Enter Last date:\"\u001b[0m\u001b[1;33m)\u001b[0m\u001b[1;33m\u001b[0m\u001b[1;33m\u001b[0m\u001b[0m\n\u001b[1;32m---> 26\u001b[1;33m     \u001b[1;32mif\u001b[0m \u001b[0mself\u001b[0m\u001b[1;33m.\u001b[0m\u001b[0mLastdate\u001b[0m\u001b[1;33m==\u001b[0m\u001b[0mself\u001b[0m\u001b[1;33m.\u001b[0m\u001b[0mDOSubmit\u001b[0m \u001b[1;32mand\u001b[0m \u001b[0mself\u001b[0m\u001b[1;33m.\u001b[0m\u001b[0mBookname\u001b[0m\u001b[1;33m==\u001b[0m\u001b[0mself\u001b[0m\u001b[1;33m.\u001b[0m\u001b[0mBookName\u001b[0m\u001b[1;33m:\u001b[0m\u001b[1;33m\u001b[0m\u001b[1;33m\u001b[0m\u001b[0m\n\u001b[0m\u001b[0;32m     27\u001b[0m         \u001b[0mself\u001b[0m\u001b[1;33m.\u001b[0m\u001b[0mflag\u001b[0m\u001b[1;33m=\u001b[0m\u001b[1;32mTrue\u001b[0m\u001b[1;33m\u001b[0m\u001b[1;33m\u001b[0m\u001b[0m\n\u001b[0;32m     28\u001b[0m \u001b[1;33m\u001b[0m\u001b[0m\n",
      "\u001b[1;31mNameError\u001b[0m: name 'self' is not defined"
     ]
    }
   ],
   "source": [
    "# Write a Python Program to develop a software library management with following classes \n",
    "# 1. Student\n",
    "# 2. Librarian\n",
    "# 3. book \n",
    "# 4. Person(parent) \n",
    "class Person:\n",
    "    \n",
    "    def Accept(self):\n",
    "        self.name=input(\"Enter your name :\")\n",
    "        self.desg=input(\"Enter your designation\")\n",
    "        \n",
    "class Student(Person):\n",
    "    \n",
    "    def studentInfo(self):\n",
    "        self.DOIssue=input(\"Enter date of issue:\")\n",
    "        self.DOSubmit=input(\"Enter date of submission:\")\n",
    "        self.BookName=input(\"Enter Book name :\")\n",
    "        self.Author=input(\"Enter Author name:\")\n",
    "    \n",
    "    \n",
    "class Librarian(Person,Student):\n",
    "    def check(self):\n",
    "        self.Bookname=input(\"Enter Bookname:\")\n",
    "        self.Lastdate=input(\"Enter Last date:\")\n",
    "    if self.Lastdate==self.DOSubmit and self.Bookname==self.BookName:\n",
    "        self.flag=True\n",
    "        \n",
    "            \n",
    "            \n",
    "class Books(Student,Librarian):\n",
    "    def availability(self):\n",
    "        Book=input(\"Book name :\")\n",
    "        Author=input(\"Enter Author name :\")\n",
    "\n",
    "        \n",
    "#ob=person()\n",
    "#ob.Accept()\n",
    "\n",
    "s=Student()\n",
    "s.Accept()\n",
    "s.studentInfo()\n",
    "\n",
    "l=Librarian()\n",
    "l.check()\n"
   ]
  },
  {
   "cell_type": "code",
   "execution_count": 9,
   "metadata": {},
   "outputs": [
    {
     "name": "stdout",
     "output_type": "stream",
     "text": [
      "Constructor Called\n",
      "Name is : \n",
      "Roll number is : \n",
      "Constructor Called\n",
      "Name is : \n",
      "Roll number is : \n",
      "Destructor Called when Objects deleted...!\n",
      "Destructor called \n",
      "Destructor called \n"
     ]
    }
   ],
   "source": [
    "#----------Destructors in Python-----------\n",
    "\n",
    "class Student:\n",
    "    def __init__(self):\n",
    "        print(\"Constructor Called\")\n",
    "        self.name=\"\"\n",
    "        self.roll=\"\"\n",
    "        \n",
    "    def __del__(self):\n",
    "        print(\"Destructor called \")\n",
    "        \n",
    "    def accept(self):        \n",
    "        self.name = input(\"Enter name :\")\n",
    "        self.roll=input(\"Enter roll :\")\n",
    "        \n",
    "    def printData(self):\n",
    "        print(\"Name is :\",self.name)\n",
    "        print(\"Roll number is :\", self.roll)\n",
    "        \n",
    "s1=Student() #here constructor is called\n",
    "s1.printData()\n",
    "\n",
    "s2=Student()\n",
    "s2.printData()\n",
    "\n",
    "print(\"Destructor Called when Objects deleted...!\")\n",
    "del s1\n",
    "del s2"
   ]
  },
  {
   "cell_type": "code",
   "execution_count": null,
   "metadata": {},
   "outputs": [],
   "source": []
  }
 ],
 "metadata": {
  "kernelspec": {
   "display_name": "Python 3",
   "language": "python",
   "name": "python3"
  },
  "language_info": {
   "codemirror_mode": {
    "name": "ipython",
    "version": 3
   },
   "file_extension": ".py",
   "mimetype": "text/x-python",
   "name": "python",
   "nbconvert_exporter": "python",
   "pygments_lexer": "ipython3",
   "version": "3.7.4"
  }
 },
 "nbformat": 4,
 "nbformat_minor": 4
}
