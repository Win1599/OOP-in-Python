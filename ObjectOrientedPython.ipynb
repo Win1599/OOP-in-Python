{
 "cells": [
  {
   "cell_type": "code",
   "execution_count": 1,
   "metadata": {},
   "outputs": [],
   "source": [
    "#Object Oriented Python\n",
    "\n",
    "#Revise\n",
    "\n",
    "def func():\n",
    "    try:\n",
    "        x=int(input(\"Enter int only:\"))\n",
    "        print(x)\n",
    "    \n",
    "    except:\n",
    "        print(\"Enter Numbers Only...\")\n",
    "        func()"
   ]
  },
  {
   "cell_type": "code",
   "execution_count": 1,
   "metadata": {},
   "outputs": [
    {
     "name": "stdout",
     "output_type": "stream",
     "text": [
      "Ashwin\n",
      "4\n",
      "Ashwin\n",
      "4\n"
     ]
    }
   ],
   "source": [
    "#What is Object Oriented Programming...\n",
    "#What is Class : Class is defination of a real time object.\n",
    "# NOTE: Its not Collection of objects.\n",
    "# 1. What is Object ? object is instance/Copy of a class.object can also be defined as a realtime entity.\n",
    "# 2. Every Class have defination of the object in terms of properties and behaviour.\n",
    "# 3. Properties of a class are denoted as Member variables.\n",
    "# 4. How to Define a class in python.\n",
    "\n",
    "class Student:\n",
    "    name=\"Ashwin\"\n",
    "    roll=4\n",
    "    address=\"Pune\"\n",
    "    \n",
    "    \n",
    "# How to create an object\n",
    "\n",
    "s1=Student()\n",
    "s2=Student()\n",
    "\n",
    "print(s1.name)\n",
    "print(s2.roll)\n",
    "\n",
    "#s2.name=input(\"Enter name:\")\n",
    "#s2.roll=int(input(\"Enter Roll no:\"))\n",
    "print(s2.name)\n",
    "print(s2.roll)"
   ]
  },
  {
   "cell_type": "code",
   "execution_count": 2,
   "metadata": {},
   "outputs": [
    {
     "name": "stdout",
     "output_type": "stream",
     "text": [
      "Enter name :Ashwin\n",
      "Enter roll :101\n",
      "Name is : Ashwin\n",
      "Roll number is : 101\n"
     ]
    }
   ],
   "source": [
    "# 5.We can create multiple objects but different names\n",
    "# 6. For each object created, a seperate memory location is allocated with all the member variables and member function\n",
    "\n",
    "class Student:\n",
    "    def accept(self):\n",
    "        self.name = input(\"Enter name :\")\n",
    "        self.roll= int(input(\"Enter roll :\"))\n",
    "        \n",
    "    def printData(self):\n",
    "        print(\"Name is :\",self.name)\n",
    "        print(\"Roll number is :\", self.roll)\n",
    "        \n",
    "s1=Student()\n",
    "\n",
    "s1.accept()\n",
    "s1.printData()"
   ]
  },
  {
   "cell_type": "code",
   "execution_count": null,
   "metadata": {},
   "outputs": [],
   "source": [
    "# Write a python program to accept details of a 3 books from the user and display them using oop\n",
    "class Book:\n",
    "    Count=int(input(\"Enter No Of Books :\"))\n",
    "    while Count!=0:\n",
    "\n",
    "        def acceptDetails(self):\n",
    "            self.BookName=input(\"Enter Book Name :\")\n",
    "            self.Author=input(\"Enter Name of the Author :\")\n",
    "            self.Price=float(input(\"Enter Book Price :\"))\n",
    "            self.Copy=input(\"Enter No of Copies :\")\n",
    "        def displayDetails(self):\n",
    "            print(\"Name is :\",self.BookName)\n",
    "            print(\"Author is :\",self.Author)\n",
    "            print(\"Price is :\",self.Price)\n",
    "            print(\"Copies :\",self.Copy)\n",
    "\n",
    "        Count=Count-1\n",
    "    \n",
    "        ob1=Book()\n",
    "      #  ob1.acceptDetails()\n",
    "        ob1.displayDetails()\n"
   ]
  },
  {
   "cell_type": "code",
   "execution_count": 12,
   "metadata": {},
   "outputs": [
    {
     "name": "stdout",
     "output_type": "stream",
     "text": [
      "Constructor Called\n",
      "Name is : \n",
      "Roll number is : \n"
     ]
    }
   ],
   "source": [
    "\n",
    "#--------Self Parameter in Python---------\n",
    "#1.Self is used to indicate the calling object E.g.If we have 3 different objects calling the same function then the class\n",
    "#should be able to decide the calling function.\n",
    "#2.Self is passed as a compulsory parameter to all the member functions .\n",
    "#3. Member variables are denoted as \"self.variable_name\"\n",
    "\n",
    "#--------Constructors in Python----------\n",
    "#1. Constructors are  used to initialize the objects\n",
    "#2. In python consructor has a fixed name i.e. __init__(self).\n",
    "\n",
    "class Student:\n",
    "    def __init__(self):\n",
    "        print(\"Constructor Called\")\n",
    "        self.name=\"\"\n",
    "        self.roll=\"\"\n",
    "    def accept(self):        \n",
    "        self.name = input(\"Enter name :\")\n",
    "        self.roll=input(\"Enter roll :\")\n",
    "        \n",
    "    def printData(self):\n",
    "        print(\"Name is :\",self.name)\n",
    "        print(\"Roll number is :\", self.roll)\n",
    "        \n",
    "s1=Student() #here constructor is called\n",
    "s1.printData()"
   ]
  },
  {
   "cell_type": "code",
   "execution_count": 20,
   "metadata": {},
   "outputs": [
    {
     "name": "stdout",
     "output_type": "stream",
     "text": [
      "Contructor called\n",
      "n1 is : 0\n",
      "n2 is : 1\n",
      "Addition is : 1\n",
      "Substraction is : -1\n",
      "Division is : 0.0\n",
      "Multiplication is : 0\n"
     ]
    }
   ],
   "source": [
    "#accept 2 numbers from user and perform sub,add,div,mult of these numbers using class and objects.\n",
    "\n",
    "class Calculator:\n",
    "    def __init__(self):\n",
    "        self.a=0\n",
    "        self.b=1\n",
    "        print(\"Contructor called\")\n",
    "        \n",
    "    def accept(self):\n",
    "        self.a=int(input(\"Enter n1 :\"))\n",
    "        self.b=int(input(\"Enter n2 :\"))\n",
    "        \n",
    "    def display(self):\n",
    "        print(\"n1 is :\",self.a)\n",
    "        print(\"n2 is :\",self.b)\n",
    "        \n",
    "    def addition(self):\n",
    "        print(\"Addition is :\",self.a+self.b)\n",
    "        \n",
    "    def substraction(self):\n",
    "        print(\"Substraction is :\",self.a-self.b)\n",
    "       \n",
    "    def division(self):\n",
    "        print(\"Division is :\",self.a/self.b)\n",
    "      \n",
    "    def multiplication(self):\n",
    "        print(\"Multiplication is :\",self.a*self.b)\n",
    "        \n",
    "c=Calculator()\n",
    "#c.accept()\n",
    "c.display()\n",
    "c.addition()\n",
    "c.substraction()\n",
    "c.division()\n",
    "c.multiplication()"
   ]
  },
  {
   "cell_type": "code",
   "execution_count": 3,
   "metadata": {},
   "outputs": [
    {
     "name": "stdout",
     "output_type": "stream",
     "text": [
      "Constructor Called\n",
      "Enter name :Ash\n",
      "Enter roll :101\n",
      "Name is : Ash\n",
      "Roll number is : 101\n"
     ]
    }
   ],
   "source": [
    "#Types of constructor 1.Default Constructor 2.Parameterised Constructor\n",
    "# we cant write both constructor in a same program\n",
    "\n",
    "class Student:\n",
    "    def __init__(self , name, roll):\n",
    "        self.name=\"\"\n",
    "        self.roll=\"\"\n",
    "    def __init__(self,name,roll):\n",
    "        print(\"Constructor Called\")\n",
    "        self.name=name\n",
    "        self.roll=roll\n",
    "    def accept(self):        \n",
    "        self.name = input(\"Enter name :\")\n",
    "        self.roll=input(\"Enter roll :\")\n",
    "        \n",
    "    def printData(self):\n",
    "        print(\"Name is :\",self.name)\n",
    "        print(\"Roll number is :\", self.roll)\n",
    "        \n",
    "obj=Student(\"Ash\",44) #Param Constructor\n",
    "#obj2=Student()           #Default Constructor\n",
    "obj.accept()\n",
    "obj.printData()\n",
    "\n",
    "# Single Class in python  cant have both constructors,you can write it but cant use both"
   ]
  },
  {
   "cell_type": "code",
   "execution_count": 8,
   "metadata": {},
   "outputs": [
    {
     "name": "stdout",
     "output_type": "stream",
     "text": [
      "1.Enter Details \n",
      "2.Diplay Details \n",
      "3.Exit\n",
      "Enter your Choice :4\n",
      "Wrong Choice !!!\n",
      "1.Enter Details \n",
      "2.Diplay Details \n",
      "3.Exit\n",
      "Enter your Choice :3\n"
     ]
    }
   ],
   "source": [
    "#Write a python prog to accept the names of books,details and display details(Menu Driven)\n",
    "\n",
    "class BookD:\n",
    "    \n",
    "   \n",
    "   \n",
    "        def accept(self):\n",
    "            self.name=input(\"Enter Book Name :\")\n",
    "            self.price=int(input(\"Enter Book price :\"))\n",
    "            self.author=input(\"Enter Author of book :\")\n",
    "            self.copy=int(input(\"Enter No of Copies :\"))\n",
    "            \n",
    "   \n",
    "        def Display(self):\n",
    "            print(\"Book name :\",self.name)\n",
    "            print(\"Book price :\",self.price)\n",
    "            print(\"Book author :\",self.author)\n",
    "            print(\"Book Copies :\",self.copy)\n",
    "        \n",
    "   \n",
    "        \n",
    "        \n",
    "obj=BookD()  \n",
    "while choice!=3:\n",
    "    print(\"1.Enter Details \")\n",
    "    print(\"2.Diplay Details \")\n",
    "    print(\"3.Exit\")\n",
    "\n",
    "    choice=int(input(\"Enter your Choice :\"))\n",
    "\n",
    "    if choice==1:  \n",
    "        obj.accept()\n",
    "\n",
    "    elif choice==2:\n",
    "        obj.Display()\n",
    "            \n",
    "    elif choice==3:\n",
    "        break\n",
    "    else :\n",
    "        print(\"Wrong Choice !!!\")\n",
    "        \n",
    "            \n",
    "            "
   ]
  },
  {
   "cell_type": "code",
   "execution_count": null,
   "metadata": {},
   "outputs": [],
   "source": []
  }
 ],
 "metadata": {
  "kernelspec": {
   "display_name": "Python 3",
   "language": "python",
   "name": "python3"
  },
  "language_info": {
   "codemirror_mode": {
    "name": "ipython",
    "version": 3
   },
   "file_extension": ".py",
   "mimetype": "text/x-python",
   "name": "python",
   "nbconvert_exporter": "python",
   "pygments_lexer": "ipython3",
   "version": "3.7.4"
  }
 },
 "nbformat": 4,
 "nbformat_minor": 4
}
